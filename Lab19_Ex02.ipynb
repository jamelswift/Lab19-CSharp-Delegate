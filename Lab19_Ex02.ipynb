{
 "cells": [
  {
   "cell_type": "markdown",
   "metadata": {
    "polyglot_notebook": {
     "kernelName": "csharp"
    }
   },
   "source": [
    "# Lab 19 Exercise 2\n",
    "\n"
   ]
  },
  {
   "cell_type": "markdown",
   "metadata": {},
   "source": [
    "## Delegate on instance and static method\n",
    "\n"
   ]
  },
  {
   "cell_type": "markdown",
   "metadata": {},
   "source": [
    "1.สร้าง console application project\n",
    "\n",
    "```cmd\n",
    "dotnet new console --name Lab19_Ex02\n",
    "```\n",
    "\n"
   ]
  },
  {
   "cell_type": "markdown",
   "metadata": {},
   "source": [
    "2.เปลี่ยน code ให้เป็นดังต่อไปนี้\n",
    "\n",
    "```csharp\n",
    "var im = new InstanceMethod();\n",
    "MyDelegate del = im.MethodA;\n",
    "del(\"Hello World\");\n",
    "del = StaticMethod.MethodB;\n",
    "del(\"Hello Moon\");\n",
    "\n",
    "class InstanceMethod\n",
    "{\n",
    "     public void MethodA(string message)\n",
    "     {\n",
    "        System.Console.WriteLine($\"You are calling instance MethodA() with message {message}\");\n",
    "     }\n",
    "}\n",
    "static class StaticMethod\n",
    "{\n",
    "     public static void MethodB(string message)\n",
    "     {\n",
    "        System.Console.WriteLine($\"You are calling static MethodB() with message {message}\");\n",
    "     }\n",
    "}\n",
    "\n",
    "public delegate void MyDelegate(string message);\n",
    "```\n",
    "\n"
   ]
  },
  {
   "cell_type": "markdown",
   "metadata": {},
   "source": [
    "3.Build project โดยการใช้คำสั่ง\n",
    "\n",
    "```cmd\n",
    "dotnet build  Lab19_Ex02\n",
    "```\n",
    "\n",
    "ถ้ามีที่ผิดพลาดในโปรแกรม ให้แก้ไขให้ถูกต้อง\n",
    "\n"
   ]
  },
  {
   "cell_type": "markdown",
   "metadata": {},
   "source": [
    "4.บันทึกผลที่ได้จากการรันคำสั่งในข้อ 3\n",
    "\n"
   ]
  },
  {
   "attachments": {
    "image.png": {
     "image/png": "[encoded data removed]"
    }
   },
   "cell_type": "markdown",
   "metadata": {},
   "source": [
    "![image.png](attachment:image.png)"
   ]
  },
  {
   "cell_type": "markdown",
   "metadata": {},
   "source": [
    "5.Run project โดยการใช้คำสั่ง\n",
    "\n",
    "```cmd\n",
    "dotnet run --project Lab19_Ex02\n",
    "```\n",
    "\n"
   ]
  },
  {
   "cell_type": "markdown",
   "metadata": {},
   "source": [
    "6.บันทึกผลที่ได้จากการรันคำสั่งในข้อ 5\n",
    "\n"
   ]
  },
  {
   "attachments": {
    "image.png": {
     "image/png": "[encoded data removed]"
    }
   },
   "cell_type": "markdown",
   "metadata": {},
   "source": [
    "![image.png](attachment:image.png)"
   ]
  },
  {
   "cell_type": "markdown",
   "metadata": {},
   "source": [
    "7.อธิบายสิ่งที่พบในการทดลอง\n"
   ]
  },
  {
   "cell_type": "markdown",
   "metadata": {},
   "source": [
    "สรุป\n",
    "- Delegate ใน C# สามารถใช้งานได้ทั้งกับ Instance Method และ Static Method โดยไม่จำเป็นต้องสร้างหรือกำหนดชนิดของเมธอดที่ใช้กับ delegate โดยตรง\n",
    "- โค้ดนี้แสดงให้เห็นถึงความยืดหยุ่นของ Delegate ในการเชื่อมโยงกับเมธอดที่แตกต่างกัน เช่น Instance Method (เช่น MethodA) และ Static Method (เช่น MethodB)\n",
    "- Delegate สามารถเปลี่ยนแปลงการเชื่อมโยงไปยังเมธอดต่าง ๆ ได้ตามต้องการ ทำให้สามารถใช้โค้ดซ้ำได้มากขึ้นและเพิ่มความยืดหยุ่นในการออกแบบโปรแกรม."
   ]
  }
 ],
 "metadata": {
  "kernelspec": {
   "display_name": ".NET (C#)",
   "language": "C#",
   "name": ".net-csharp"
  },
  "polyglot_notebook": {
   "kernelInfo": {
    "defaultKernelName": "csharp",
    "items": [
     {
      "aliases": [],
      "languageName": "csharp",
      "name": "csharp"
     }
    ]
   }
  }
 },
 "nbformat": 4,
 "nbformat_minor": 2
}
